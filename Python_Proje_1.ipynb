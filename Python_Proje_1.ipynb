{
 "cells": [
  {
   "cell_type": "code",
   "execution_count": 90,
   "id": "afd0bd12-e803-4417-a06d-44d8c7561234",
   "metadata": {},
   "outputs": [
    {
     "data": {
      "text/plain": [
       "[1, 'a', 'cat', 2, 3, 'dog', 4, 5]"
      ]
     },
     "execution_count": 90,
     "metadata": {},
     "output_type": "execute_result"
    }
   ],
   "source": [
    "#1.Soru\n",
    "def flatten(liste):\n",
    " yeni_liste =[]\n",
    " for i in liste:\n",
    "        if type(i)==list:\n",
    "           yeni_liste.extend(flatten(i)) \n",
    "        else:\n",
    "          yeni_liste.append(i)\n",
    " return yeni_liste \n",
    "    \n",
    "liste=[[1,'a',['cat'],2],[[[3]],'dog'],4,5]\n",
    "flatten(liste)\n",
    "    "
   ]
  },
  {
   "cell_type": "code",
   "execution_count": 110,
   "id": "e2beaee5-d795-4610-a59b-55236ceaf9b2",
   "metadata": {},
   "outputs": [
    {
     "name": "stdout",
     "output_type": "stream",
     "text": [
      "[[7, 6, 5], [4, 3], [2, 1]]\n"
     ]
    }
   ],
   "source": [
    "#2.Soru\n",
    "def ters(liste):\n",
    " yeni_liste =[]\n",
    " liste.reverse()\n",
    " for i in liste:\n",
    "        if type(i)==list:\n",
    "             i.reverse()\n",
    "             yeni_liste.extend(i) \n",
    "        else:\n",
    "          yeni_liste.add(i)\n",
    " return yeni_liste \n",
    "    \n",
    "liste=[[1, 2], [3, 4], [5, 6, 7]]\n",
    "ters(liste)\n",
    "print(liste)"
   ]
  },
  {
   "cell_type": "code",
   "execution_count": null,
   "id": "a538ea91-1909-4f83-a244-20afd8190528",
   "metadata": {},
   "outputs": [],
   "source": []
  }
 ],
 "metadata": {
  "kernelspec": {
   "display_name": "Python [conda env:base] *",
   "language": "python",
   "name": "conda-base-py"
  },
  "language_info": {
   "codemirror_mode": {
    "name": "ipython",
    "version": 3
   },
   "file_extension": ".py",
   "mimetype": "text/x-python",
   "name": "python",
   "nbconvert_exporter": "python",
   "pygments_lexer": "ipython3",
   "version": "3.12.7"
  }
 },
 "nbformat": 4,
 "nbformat_minor": 5
}
